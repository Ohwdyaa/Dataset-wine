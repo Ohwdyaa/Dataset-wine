{
  "nbformat": 4,
  "nbformat_minor": 0,
  "metadata": {
    "colab": {
      "provenance": [],
      "authorship_tag": "ABX9TyNAXsiL6fTPQ2d0DeoFHQxg",
      "include_colab_link": true
    },
    "kernelspec": {
      "name": "python3",
      "display_name": "Python 3"
    },
    "language_info": {
      "name": "python"
    }
  },
  "cells": [
    {
      "cell_type": "markdown",
      "metadata": {
        "id": "view-in-github",
        "colab_type": "text"
      },
      "source": [
        "<a href=\"https://colab.research.google.com/github/Ohwdyaa/Dataset-wine/blob/main/Dataset_wine.ipynb\" target=\"_parent\"><img src=\"https://colab.research.google.com/assets/colab-badge.svg\" alt=\"Open In Colab\"/></a>"
      ]
    },
    {
      "cell_type": "markdown",
      "source": [
        "Mengambil fungsi dari modul kumpulan data di scikit-learn"
      ],
      "metadata": {
        "id": "7TDyVbHGvP60"
      }
    },
    {
      "cell_type": "code",
      "source": [
        "from sklearn.datasets import load_wine"
      ],
      "metadata": {
        "id": "6X1GUMetvlj4"
      },
      "execution_count": 1,
      "outputs": []
    },
    {
      "cell_type": "markdown",
      "source": [
        "Menetapkan hasil wine beban menjadi data wine"
      ],
      "metadata": {
        "id": "CrwB1meBvxsz"
      }
    },
    {
      "cell_type": "code",
      "source": [
        "wine_data = load_wine()"
      ],
      "metadata": {
        "id": "7IvVcSWZv_yA"
      },
      "execution_count": 2,
      "outputs": []
    },
    {
      "cell_type": "markdown",
      "source": [
        "Fungsi direktori untuk memperkirakan apa yang dimilki objek data wine."
      ],
      "metadata": {
        "id": "ye5dmhutwOKo"
      }
    },
    {
      "cell_type": "code",
      "source": [
        "dir(wine_data)"
      ],
      "metadata": {
        "colab": {
          "base_uri": "https://localhost:8080/"
        },
        "id": "CJj-IhMiwXki",
        "outputId": "5b8bcc2c-3608-446f-f931-186a0807a92c"
      },
      "execution_count": 3,
      "outputs": [
        {
          "output_type": "execute_result",
          "data": {
            "text/plain": [
              "['DESCR', 'data', 'feature_names', 'frame', 'target', 'target_names']"
            ]
          },
          "metadata": {},
          "execution_count": 3
        }
      ]
    },
    {
      "cell_type": "markdown",
      "source": [
        "Mencetak deskripsi wine"
      ],
      "metadata": {
        "id": "33v0FddNw5_m"
      }
    },
    {
      "cell_type": "code",
      "source": [
        "print(wine_data.DESCR)"
      ],
      "metadata": {
        "colab": {
          "base_uri": "https://localhost:8080/"
        },
        "id": "OQdMcSFhw-fR",
        "outputId": "19792147-b04b-4c5e-b737-4bd1356a3f52"
      },
      "execution_count": 4,
      "outputs": [
        {
          "output_type": "stream",
          "name": "stdout",
          "text": [
            ".. _wine_dataset:\n",
            "\n",
            "Wine recognition dataset\n",
            "------------------------\n",
            "\n",
            "**Data Set Characteristics:**\n",
            "\n",
            "    :Number of Instances: 178 (50 in each of three classes)\n",
            "    :Number of Attributes: 13 numeric, predictive attributes and the class\n",
            "    :Attribute Information:\n",
            " \t\t- Alcohol\n",
            " \t\t- Malic acid\n",
            " \t\t- Ash\n",
            "\t\t- Alcalinity of ash  \n",
            " \t\t- Magnesium\n",
            "\t\t- Total phenols\n",
            " \t\t- Flavanoids\n",
            " \t\t- Nonflavanoid phenols\n",
            " \t\t- Proanthocyanins\n",
            "\t\t- Color intensity\n",
            " \t\t- Hue\n",
            " \t\t- OD280/OD315 of diluted wines\n",
            " \t\t- Proline\n",
            "\n",
            "    - class:\n",
            "            - class_0\n",
            "            - class_1\n",
            "            - class_2\n",
            "\t\t\n",
            "    :Summary Statistics:\n",
            "    \n",
            "    ============================= ==== ===== ======= =====\n",
            "                                   Min   Max   Mean     SD\n",
            "    ============================= ==== ===== ======= =====\n",
            "    Alcohol:                      11.0  14.8    13.0   0.8\n",
            "    Malic Acid:                   0.74  5.80    2.34  1.12\n",
            "    Ash:                          1.36  3.23    2.36  0.27\n",
            "    Alcalinity of Ash:            10.6  30.0    19.5   3.3\n",
            "    Magnesium:                    70.0 162.0    99.7  14.3\n",
            "    Total Phenols:                0.98  3.88    2.29  0.63\n",
            "    Flavanoids:                   0.34  5.08    2.03  1.00\n",
            "    Nonflavanoid Phenols:         0.13  0.66    0.36  0.12\n",
            "    Proanthocyanins:              0.41  3.58    1.59  0.57\n",
            "    Colour Intensity:              1.3  13.0     5.1   2.3\n",
            "    Hue:                          0.48  1.71    0.96  0.23\n",
            "    OD280/OD315 of diluted wines: 1.27  4.00    2.61  0.71\n",
            "    Proline:                       278  1680     746   315\n",
            "    ============================= ==== ===== ======= =====\n",
            "\n",
            "    :Missing Attribute Values: None\n",
            "    :Class Distribution: class_0 (59), class_1 (71), class_2 (48)\n",
            "    :Creator: R.A. Fisher\n",
            "    :Donor: Michael Marshall (MARSHALL%PLU@io.arc.nasa.gov)\n",
            "    :Date: July, 1988\n",
            "\n",
            "This is a copy of UCI ML Wine recognition datasets.\n",
            "https://archive.ics.uci.edu/ml/machine-learning-databases/wine/wine.data\n",
            "\n",
            "The data is the results of a chemical analysis of wines grown in the same\n",
            "region in Italy by three different cultivators. There are thirteen different\n",
            "measurements taken for different constituents found in the three types of\n",
            "wine.\n",
            "\n",
            "Original Owners: \n",
            "\n",
            "Forina, M. et al, PARVUS - \n",
            "An Extendible Package for Data Exploration, Classification and Correlation. \n",
            "Institute of Pharmaceutical and Food Analysis and Technologies,\n",
            "Via Brigata Salerno, 16147 Genoa, Italy.\n",
            "\n",
            "Citation:\n",
            "\n",
            "Lichman, M. (2013). UCI Machine Learning Repository\n",
            "[https://archive.ics.uci.edu/ml]. Irvine, CA: University of California,\n",
            "School of Information and Computer Science. \n",
            "\n",
            ".. topic:: References\n",
            "\n",
            "  (1) S. Aeberhard, D. Coomans and O. de Vel, \n",
            "  Comparison of Classifiers in High Dimensional Settings, \n",
            "  Tech. Rep. no. 92-02, (1992), Dept. of Computer Science and Dept. of  \n",
            "  Mathematics and Statistics, James Cook University of North Queensland. \n",
            "  (Also submitted to Technometrics). \n",
            "\n",
            "  The data was used with many others for comparing various \n",
            "  classifiers. The classes are separable, though only RDA \n",
            "  has achieved 100% correct classification. \n",
            "  (RDA : 100%, QDA 99.4%, LDA 98.9%, 1NN 96.1% (z-transformed data)) \n",
            "  (All results using the leave-one-out technique) \n",
            "\n",
            "  (2) S. Aeberhard, D. Coomans and O. de Vel, \n",
            "  \"THE CLASSIFICATION PERFORMANCE OF RDA\" \n",
            "  Tech. Rep. no. 92-01, (1992), Dept. of Computer Science and Dept. of \n",
            "  Mathematics and Statistics, James Cook University of North Queensland. \n",
            "  (Also submitted to Journal of Chemometrics).\n",
            "\n"
          ]
        }
      ]
    },
    {
      "cell_type": "markdown",
      "source": [
        "Menetapkan nilai daari property wine"
      ],
      "metadata": {
        "id": "6IWAa0hUzMKk"
      }
    },
    {
      "cell_type": "code",
      "source": [
        "inputs = wine_data.data"
      ],
      "metadata": {
        "id": "f83csjwKzT-2"
      },
      "execution_count": 5,
      "outputs": []
    },
    {
      "cell_type": "markdown",
      "source": [
        "Output sebagai variabel"
      ],
      "metadata": {
        "id": "UFRvhRi9z2sB"
      }
    },
    {
      "cell_type": "code",
      "source": [
        "output = wine_data.target"
      ],
      "metadata": {
        "id": "ohaRbPiyzpGs"
      },
      "execution_count": 6,
      "outputs": []
    },
    {
      "cell_type": "markdown",
      "source": [
        "Bentuk input"
      ],
      "metadata": {
        "id": "rQc8czgqz7OZ"
      }
    },
    {
      "cell_type": "code",
      "source": [
        "inputs.shape"
      ],
      "metadata": {
        "colab": {
          "base_uri": "https://localhost:8080/"
        },
        "id": "KXPP4zXb0EfW",
        "outputId": "9ef3aa5e-784c-48ed-f8d2-92c9f44eabdd"
      },
      "execution_count": 7,
      "outputs": [
        {
          "output_type": "execute_result",
          "data": {
            "text/plain": [
              "(178, 13)"
            ]
          },
          "metadata": {},
          "execution_count": 7
        }
      ]
    },
    {
      "cell_type": "markdown",
      "source": [
        "Memprediksikan kelas dalam data wine"
      ],
      "metadata": {
        "id": "a5HLzjwR0IuZ"
      }
    },
    {
      "cell_type": "code",
      "source": [
        "output.shape"
      ],
      "metadata": {
        "colab": {
          "base_uri": "https://localhost:8080/"
        },
        "id": "w8fxN_o80RFa",
        "outputId": "de004dc5-7bdb-4038-f694-77a514dc7ebc"
      },
      "execution_count": 8,
      "outputs": [
        {
          "output_type": "execute_result",
          "data": {
            "text/plain": [
              "(178,)"
            ]
          },
          "metadata": {},
          "execution_count": 8
        }
      ]
    },
    {
      "cell_type": "markdown",
      "source": [
        "Melihat nama fitur data wine"
      ],
      "metadata": {
        "id": "moLYavcp0V5d"
      }
    },
    {
      "cell_type": "code",
      "source": [
        "wine_data.feature_names"
      ],
      "metadata": {
        "colab": {
          "base_uri": "https://localhost:8080/"
        },
        "id": "p17jrcpg0mmq",
        "outputId": "fb32b171-f016-4a98-8014-b4638c7b9ad7"
      },
      "execution_count": 9,
      "outputs": [
        {
          "output_type": "execute_result",
          "data": {
            "text/plain": [
              "['alcohol',\n",
              " 'malic_acid',\n",
              " 'ash',\n",
              " 'alcalinity_of_ash',\n",
              " 'magnesium',\n",
              " 'total_phenols',\n",
              " 'flavanoids',\n",
              " 'nonflavanoid_phenols',\n",
              " 'proanthocyanins',\n",
              " 'color_intensity',\n",
              " 'hue',\n",
              " 'od280/od315_of_diluted_wines',\n",
              " 'proline']"
            ]
          },
          "metadata": {},
          "execution_count": 9
        }
      ]
    },
    {
      "cell_type": "markdown",
      "source": [
        "Mengimpor paket panda sebagai PD"
      ],
      "metadata": {
        "id": "ZNhWw_0D14AM"
      }
    },
    {
      "cell_type": "code",
      "source": [
        "import pandas as pd"
      ],
      "metadata": {
        "id": "gdstZarD12c8"
      },
      "execution_count": 10,
      "outputs": []
    },
    {
      "cell_type": "markdown",
      "source": [
        "Membuat bingkai data baru"
      ],
      "metadata": {
        "id": "AP1GEThJ2E7T"
      }
    },
    {
      "cell_type": "code",
      "source": [
        "df = pd.DataFrame(inputs, columns=wine_data.feature_names)"
      ],
      "metadata": {
        "id": "LlkppMuy2JC8"
      },
      "execution_count": 11,
      "outputs": []
    },
    {
      "cell_type": "markdown",
      "source": [
        "Menangani bingkai data wine diatas data output"
      ],
      "metadata": {
        "id": "sb1pVsVl2wSt"
      }
    },
    {
      "cell_type": "code",
      "source": [
        "df = pd.concat([df, pd.DataFrame(output)], axis=1)"
      ],
      "metadata": {
        "id": "_vTCibVw3BMV"
      },
      "execution_count": 13,
      "outputs": []
    },
    {
      "cell_type": "markdown",
      "source": [
        "Pendistribusian kelas"
      ],
      "metadata": {
        "id": "VNYW4EJf3gXS"
      }
    },
    {
      "cell_type": "code",
      "source": [
        "df"
      ],
      "metadata": {
        "colab": {
          "base_uri": "https://localhost:8080/",
          "height": 488
        },
        "id": "OTtQDLCG3oNG",
        "outputId": "b93f1ab6-022f-427b-ed5f-a6ed05cfd4c1"
      },
      "execution_count": 15,
      "outputs": [
        {
          "output_type": "execute_result",
          "data": {
            "text/plain": [
              "     alcohol  malic_acid   ash  alcalinity_of_ash  magnesium  total_phenols  \\\n",
              "0      14.23        1.71  2.43               15.6      127.0           2.80   \n",
              "1      13.20        1.78  2.14               11.2      100.0           2.65   \n",
              "2      13.16        2.36  2.67               18.6      101.0           2.80   \n",
              "3      14.37        1.95  2.50               16.8      113.0           3.85   \n",
              "4      13.24        2.59  2.87               21.0      118.0           2.80   \n",
              "..       ...         ...   ...                ...        ...            ...   \n",
              "173    13.71        5.65  2.45               20.5       95.0           1.68   \n",
              "174    13.40        3.91  2.48               23.0      102.0           1.80   \n",
              "175    13.27        4.28  2.26               20.0      120.0           1.59   \n",
              "176    13.17        2.59  2.37               20.0      120.0           1.65   \n",
              "177    14.13        4.10  2.74               24.5       96.0           2.05   \n",
              "\n",
              "     flavanoids  nonflavanoid_phenols  proanthocyanins  color_intensity   hue  \\\n",
              "0          3.06                  0.28             2.29             5.64  1.04   \n",
              "1          2.76                  0.26             1.28             4.38  1.05   \n",
              "2          3.24                  0.30             2.81             5.68  1.03   \n",
              "3          3.49                  0.24             2.18             7.80  0.86   \n",
              "4          2.69                  0.39             1.82             4.32  1.04   \n",
              "..          ...                   ...              ...              ...   ...   \n",
              "173        0.61                  0.52             1.06             7.70  0.64   \n",
              "174        0.75                  0.43             1.41             7.30  0.70   \n",
              "175        0.69                  0.43             1.35            10.20  0.59   \n",
              "176        0.68                  0.53             1.46             9.30  0.60   \n",
              "177        0.76                  0.56             1.35             9.20  0.61   \n",
              "\n",
              "     od280/od315_of_diluted_wines  proline  0  \n",
              "0                            3.92   1065.0  0  \n",
              "1                            3.40   1050.0  0  \n",
              "2                            3.17   1185.0  0  \n",
              "3                            3.45   1480.0  0  \n",
              "4                            2.93    735.0  0  \n",
              "..                            ...      ... ..  \n",
              "173                          1.74    740.0  2  \n",
              "174                          1.56    750.0  2  \n",
              "175                          1.56    835.0  2  \n",
              "176                          1.62    840.0  2  \n",
              "177                          1.60    560.0  2  \n",
              "\n",
              "[178 rows x 14 columns]"
            ],
            "text/html": [
              "\n",
              "  <div id=\"df-7ded8427-bef0-4dd7-ab9f-553b1fb224aa\">\n",
              "    <div class=\"colab-df-container\">\n",
              "      <div>\n",
              "<style scoped>\n",
              "    .dataframe tbody tr th:only-of-type {\n",
              "        vertical-align: middle;\n",
              "    }\n",
              "\n",
              "    .dataframe tbody tr th {\n",
              "        vertical-align: top;\n",
              "    }\n",
              "\n",
              "    .dataframe thead th {\n",
              "        text-align: right;\n",
              "    }\n",
              "</style>\n",
              "<table border=\"1\" class=\"dataframe\">\n",
              "  <thead>\n",
              "    <tr style=\"text-align: right;\">\n",
              "      <th></th>\n",
              "      <th>alcohol</th>\n",
              "      <th>malic_acid</th>\n",
              "      <th>ash</th>\n",
              "      <th>alcalinity_of_ash</th>\n",
              "      <th>magnesium</th>\n",
              "      <th>total_phenols</th>\n",
              "      <th>flavanoids</th>\n",
              "      <th>nonflavanoid_phenols</th>\n",
              "      <th>proanthocyanins</th>\n",
              "      <th>color_intensity</th>\n",
              "      <th>hue</th>\n",
              "      <th>od280/od315_of_diluted_wines</th>\n",
              "      <th>proline</th>\n",
              "      <th>0</th>\n",
              "    </tr>\n",
              "  </thead>\n",
              "  <tbody>\n",
              "    <tr>\n",
              "      <th>0</th>\n",
              "      <td>14.23</td>\n",
              "      <td>1.71</td>\n",
              "      <td>2.43</td>\n",
              "      <td>15.6</td>\n",
              "      <td>127.0</td>\n",
              "      <td>2.80</td>\n",
              "      <td>3.06</td>\n",
              "      <td>0.28</td>\n",
              "      <td>2.29</td>\n",
              "      <td>5.64</td>\n",
              "      <td>1.04</td>\n",
              "      <td>3.92</td>\n",
              "      <td>1065.0</td>\n",
              "      <td>0</td>\n",
              "    </tr>\n",
              "    <tr>\n",
              "      <th>1</th>\n",
              "      <td>13.20</td>\n",
              "      <td>1.78</td>\n",
              "      <td>2.14</td>\n",
              "      <td>11.2</td>\n",
              "      <td>100.0</td>\n",
              "      <td>2.65</td>\n",
              "      <td>2.76</td>\n",
              "      <td>0.26</td>\n",
              "      <td>1.28</td>\n",
              "      <td>4.38</td>\n",
              "      <td>1.05</td>\n",
              "      <td>3.40</td>\n",
              "      <td>1050.0</td>\n",
              "      <td>0</td>\n",
              "    </tr>\n",
              "    <tr>\n",
              "      <th>2</th>\n",
              "      <td>13.16</td>\n",
              "      <td>2.36</td>\n",
              "      <td>2.67</td>\n",
              "      <td>18.6</td>\n",
              "      <td>101.0</td>\n",
              "      <td>2.80</td>\n",
              "      <td>3.24</td>\n",
              "      <td>0.30</td>\n",
              "      <td>2.81</td>\n",
              "      <td>5.68</td>\n",
              "      <td>1.03</td>\n",
              "      <td>3.17</td>\n",
              "      <td>1185.0</td>\n",
              "      <td>0</td>\n",
              "    </tr>\n",
              "    <tr>\n",
              "      <th>3</th>\n",
              "      <td>14.37</td>\n",
              "      <td>1.95</td>\n",
              "      <td>2.50</td>\n",
              "      <td>16.8</td>\n",
              "      <td>113.0</td>\n",
              "      <td>3.85</td>\n",
              "      <td>3.49</td>\n",
              "      <td>0.24</td>\n",
              "      <td>2.18</td>\n",
              "      <td>7.80</td>\n",
              "      <td>0.86</td>\n",
              "      <td>3.45</td>\n",
              "      <td>1480.0</td>\n",
              "      <td>0</td>\n",
              "    </tr>\n",
              "    <tr>\n",
              "      <th>4</th>\n",
              "      <td>13.24</td>\n",
              "      <td>2.59</td>\n",
              "      <td>2.87</td>\n",
              "      <td>21.0</td>\n",
              "      <td>118.0</td>\n",
              "      <td>2.80</td>\n",
              "      <td>2.69</td>\n",
              "      <td>0.39</td>\n",
              "      <td>1.82</td>\n",
              "      <td>4.32</td>\n",
              "      <td>1.04</td>\n",
              "      <td>2.93</td>\n",
              "      <td>735.0</td>\n",
              "      <td>0</td>\n",
              "    </tr>\n",
              "    <tr>\n",
              "      <th>...</th>\n",
              "      <td>...</td>\n",
              "      <td>...</td>\n",
              "      <td>...</td>\n",
              "      <td>...</td>\n",
              "      <td>...</td>\n",
              "      <td>...</td>\n",
              "      <td>...</td>\n",
              "      <td>...</td>\n",
              "      <td>...</td>\n",
              "      <td>...</td>\n",
              "      <td>...</td>\n",
              "      <td>...</td>\n",
              "      <td>...</td>\n",
              "      <td>...</td>\n",
              "    </tr>\n",
              "    <tr>\n",
              "      <th>173</th>\n",
              "      <td>13.71</td>\n",
              "      <td>5.65</td>\n",
              "      <td>2.45</td>\n",
              "      <td>20.5</td>\n",
              "      <td>95.0</td>\n",
              "      <td>1.68</td>\n",
              "      <td>0.61</td>\n",
              "      <td>0.52</td>\n",
              "      <td>1.06</td>\n",
              "      <td>7.70</td>\n",
              "      <td>0.64</td>\n",
              "      <td>1.74</td>\n",
              "      <td>740.0</td>\n",
              "      <td>2</td>\n",
              "    </tr>\n",
              "    <tr>\n",
              "      <th>174</th>\n",
              "      <td>13.40</td>\n",
              "      <td>3.91</td>\n",
              "      <td>2.48</td>\n",
              "      <td>23.0</td>\n",
              "      <td>102.0</td>\n",
              "      <td>1.80</td>\n",
              "      <td>0.75</td>\n",
              "      <td>0.43</td>\n",
              "      <td>1.41</td>\n",
              "      <td>7.30</td>\n",
              "      <td>0.70</td>\n",
              "      <td>1.56</td>\n",
              "      <td>750.0</td>\n",
              "      <td>2</td>\n",
              "    </tr>\n",
              "    <tr>\n",
              "      <th>175</th>\n",
              "      <td>13.27</td>\n",
              "      <td>4.28</td>\n",
              "      <td>2.26</td>\n",
              "      <td>20.0</td>\n",
              "      <td>120.0</td>\n",
              "      <td>1.59</td>\n",
              "      <td>0.69</td>\n",
              "      <td>0.43</td>\n",
              "      <td>1.35</td>\n",
              "      <td>10.20</td>\n",
              "      <td>0.59</td>\n",
              "      <td>1.56</td>\n",
              "      <td>835.0</td>\n",
              "      <td>2</td>\n",
              "    </tr>\n",
              "    <tr>\n",
              "      <th>176</th>\n",
              "      <td>13.17</td>\n",
              "      <td>2.59</td>\n",
              "      <td>2.37</td>\n",
              "      <td>20.0</td>\n",
              "      <td>120.0</td>\n",
              "      <td>1.65</td>\n",
              "      <td>0.68</td>\n",
              "      <td>0.53</td>\n",
              "      <td>1.46</td>\n",
              "      <td>9.30</td>\n",
              "      <td>0.60</td>\n",
              "      <td>1.62</td>\n",
              "      <td>840.0</td>\n",
              "      <td>2</td>\n",
              "    </tr>\n",
              "    <tr>\n",
              "      <th>177</th>\n",
              "      <td>14.13</td>\n",
              "      <td>4.10</td>\n",
              "      <td>2.74</td>\n",
              "      <td>24.5</td>\n",
              "      <td>96.0</td>\n",
              "      <td>2.05</td>\n",
              "      <td>0.76</td>\n",
              "      <td>0.56</td>\n",
              "      <td>1.35</td>\n",
              "      <td>9.20</td>\n",
              "      <td>0.61</td>\n",
              "      <td>1.60</td>\n",
              "      <td>560.0</td>\n",
              "      <td>2</td>\n",
              "    </tr>\n",
              "  </tbody>\n",
              "</table>\n",
              "<p>178 rows × 14 columns</p>\n",
              "</div>\n",
              "      <button class=\"colab-df-convert\" onclick=\"convertToInteractive('df-7ded8427-bef0-4dd7-ab9f-553b1fb224aa')\"\n",
              "              title=\"Convert this dataframe to an interactive table.\"\n",
              "              style=\"display:none;\">\n",
              "        \n",
              "  <svg xmlns=\"http://www.w3.org/2000/svg\" height=\"24px\"viewBox=\"0 0 24 24\"\n",
              "       width=\"24px\">\n",
              "    <path d=\"M0 0h24v24H0V0z\" fill=\"none\"/>\n",
              "    <path d=\"M18.56 5.44l.94 2.06.94-2.06 2.06-.94-2.06-.94-.94-2.06-.94 2.06-2.06.94zm-11 1L8.5 8.5l.94-2.06 2.06-.94-2.06-.94L8.5 2.5l-.94 2.06-2.06.94zm10 10l.94 2.06.94-2.06 2.06-.94-2.06-.94-.94-2.06-.94 2.06-2.06.94z\"/><path d=\"M17.41 7.96l-1.37-1.37c-.4-.4-.92-.59-1.43-.59-.52 0-1.04.2-1.43.59L10.3 9.45l-7.72 7.72c-.78.78-.78 2.05 0 2.83L4 21.41c.39.39.9.59 1.41.59.51 0 1.02-.2 1.41-.59l7.78-7.78 2.81-2.81c.8-.78.8-2.07 0-2.86zM5.41 20L4 18.59l7.72-7.72 1.47 1.35L5.41 20z\"/>\n",
              "  </svg>\n",
              "      </button>\n",
              "      \n",
              "  <style>\n",
              "    .colab-df-container {\n",
              "      display:flex;\n",
              "      flex-wrap:wrap;\n",
              "      gap: 12px;\n",
              "    }\n",
              "\n",
              "    .colab-df-convert {\n",
              "      background-color: #E8F0FE;\n",
              "      border: none;\n",
              "      border-radius: 50%;\n",
              "      cursor: pointer;\n",
              "      display: none;\n",
              "      fill: #1967D2;\n",
              "      height: 32px;\n",
              "      padding: 0 0 0 0;\n",
              "      width: 32px;\n",
              "    }\n",
              "\n",
              "    .colab-df-convert:hover {\n",
              "      background-color: #E2EBFA;\n",
              "      box-shadow: 0px 1px 2px rgba(60, 64, 67, 0.3), 0px 1px 3px 1px rgba(60, 64, 67, 0.15);\n",
              "      fill: #174EA6;\n",
              "    }\n",
              "\n",
              "    [theme=dark] .colab-df-convert {\n",
              "      background-color: #3B4455;\n",
              "      fill: #D2E3FC;\n",
              "    }\n",
              "\n",
              "    [theme=dark] .colab-df-convert:hover {\n",
              "      background-color: #434B5C;\n",
              "      box-shadow: 0px 1px 3px 1px rgba(0, 0, 0, 0.15);\n",
              "      filter: drop-shadow(0px 1px 2px rgba(0, 0, 0, 0.3));\n",
              "      fill: #FFFFFF;\n",
              "    }\n",
              "  </style>\n",
              "\n",
              "      <script>\n",
              "        const buttonEl =\n",
              "          document.querySelector('#df-7ded8427-bef0-4dd7-ab9f-553b1fb224aa button.colab-df-convert');\n",
              "        buttonEl.style.display =\n",
              "          google.colab.kernel.accessAllowed ? 'block' : 'none';\n",
              "\n",
              "        async function convertToInteractive(key) {\n",
              "          const element = document.querySelector('#df-7ded8427-bef0-4dd7-ab9f-553b1fb224aa');\n",
              "          const dataTable =\n",
              "            await google.colab.kernel.invokeFunction('convertToInteractive',\n",
              "                                                     [key], {});\n",
              "          if (!dataTable) return;\n",
              "\n",
              "          const docLinkHtml = 'Like what you see? Visit the ' +\n",
              "            '<a target=\"_blank\" href=https://colab.research.google.com/notebooks/data_table.ipynb>data table notebook</a>'\n",
              "            + ' to learn more about interactive tables.';\n",
              "          element.innerHTML = '';\n",
              "          dataTable['output_type'] = 'display_data';\n",
              "          await google.colab.output.renderOutput(dataTable, element);\n",
              "          const docLink = document.createElement('div');\n",
              "          docLink.innerHTML = docLinkHtml;\n",
              "          element.appendChild(docLink);\n",
              "        }\n",
              "      </script>\n",
              "    </div>\n",
              "  </div>\n",
              "  "
            ]
          },
          "metadata": {},
          "execution_count": 15
        }
      ]
    },
    {
      "cell_type": "markdown",
      "source": [
        "Menghitung deviasi rata-rata"
      ],
      "metadata": {
        "id": "ik1VQbBa3vYN"
      }
    },
    {
      "cell_type": "code",
      "source": [
        "df.describe().style.format(\"{:.5f}\")"
      ],
      "metadata": {
        "colab": {
          "base_uri": "https://localhost:8080/",
          "height": 320
        },
        "id": "IF32DrHq3568",
        "outputId": "da67ae65-f773-4865-b3e0-b822959a0925"
      },
      "execution_count": 17,
      "outputs": [
        {
          "output_type": "execute_result",
          "data": {
            "text/plain": [
              "<pandas.io.formats.style.Styler at 0x7f90dcf32590>"
            ],
            "text/html": [
              "<style type=\"text/css\">\n",
              "</style>\n",
              "<table id=\"T_52b74_\" class=\"dataframe\">\n",
              "  <thead>\n",
              "    <tr>\n",
              "      <th class=\"blank level0\" >&nbsp;</th>\n",
              "      <th class=\"col_heading level0 col0\" >alcohol</th>\n",
              "      <th class=\"col_heading level0 col1\" >malic_acid</th>\n",
              "      <th class=\"col_heading level0 col2\" >ash</th>\n",
              "      <th class=\"col_heading level0 col3\" >alcalinity_of_ash</th>\n",
              "      <th class=\"col_heading level0 col4\" >magnesium</th>\n",
              "      <th class=\"col_heading level0 col5\" >total_phenols</th>\n",
              "      <th class=\"col_heading level0 col6\" >flavanoids</th>\n",
              "      <th class=\"col_heading level0 col7\" >nonflavanoid_phenols</th>\n",
              "      <th class=\"col_heading level0 col8\" >proanthocyanins</th>\n",
              "      <th class=\"col_heading level0 col9\" >color_intensity</th>\n",
              "      <th class=\"col_heading level0 col10\" >hue</th>\n",
              "      <th class=\"col_heading level0 col11\" >od280/od315_of_diluted_wines</th>\n",
              "      <th class=\"col_heading level0 col12\" >proline</th>\n",
              "      <th class=\"col_heading level0 col13\" >0</th>\n",
              "    </tr>\n",
              "  </thead>\n",
              "  <tbody>\n",
              "    <tr>\n",
              "      <th id=\"T_52b74_level0_row0\" class=\"row_heading level0 row0\" >count</th>\n",
              "      <td id=\"T_52b74_row0_col0\" class=\"data row0 col0\" >178.00000</td>\n",
              "      <td id=\"T_52b74_row0_col1\" class=\"data row0 col1\" >178.00000</td>\n",
              "      <td id=\"T_52b74_row0_col2\" class=\"data row0 col2\" >178.00000</td>\n",
              "      <td id=\"T_52b74_row0_col3\" class=\"data row0 col3\" >178.00000</td>\n",
              "      <td id=\"T_52b74_row0_col4\" class=\"data row0 col4\" >178.00000</td>\n",
              "      <td id=\"T_52b74_row0_col5\" class=\"data row0 col5\" >178.00000</td>\n",
              "      <td id=\"T_52b74_row0_col6\" class=\"data row0 col6\" >178.00000</td>\n",
              "      <td id=\"T_52b74_row0_col7\" class=\"data row0 col7\" >178.00000</td>\n",
              "      <td id=\"T_52b74_row0_col8\" class=\"data row0 col8\" >178.00000</td>\n",
              "      <td id=\"T_52b74_row0_col9\" class=\"data row0 col9\" >178.00000</td>\n",
              "      <td id=\"T_52b74_row0_col10\" class=\"data row0 col10\" >178.00000</td>\n",
              "      <td id=\"T_52b74_row0_col11\" class=\"data row0 col11\" >178.00000</td>\n",
              "      <td id=\"T_52b74_row0_col12\" class=\"data row0 col12\" >178.00000</td>\n",
              "      <td id=\"T_52b74_row0_col13\" class=\"data row0 col13\" >178.00000</td>\n",
              "    </tr>\n",
              "    <tr>\n",
              "      <th id=\"T_52b74_level0_row1\" class=\"row_heading level0 row1\" >mean</th>\n",
              "      <td id=\"T_52b74_row1_col0\" class=\"data row1 col0\" >13.00062</td>\n",
              "      <td id=\"T_52b74_row1_col1\" class=\"data row1 col1\" >2.33635</td>\n",
              "      <td id=\"T_52b74_row1_col2\" class=\"data row1 col2\" >2.36652</td>\n",
              "      <td id=\"T_52b74_row1_col3\" class=\"data row1 col3\" >19.49494</td>\n",
              "      <td id=\"T_52b74_row1_col4\" class=\"data row1 col4\" >99.74157</td>\n",
              "      <td id=\"T_52b74_row1_col5\" class=\"data row1 col5\" >2.29511</td>\n",
              "      <td id=\"T_52b74_row1_col6\" class=\"data row1 col6\" >2.02927</td>\n",
              "      <td id=\"T_52b74_row1_col7\" class=\"data row1 col7\" >0.36185</td>\n",
              "      <td id=\"T_52b74_row1_col8\" class=\"data row1 col8\" >1.59090</td>\n",
              "      <td id=\"T_52b74_row1_col9\" class=\"data row1 col9\" >5.05809</td>\n",
              "      <td id=\"T_52b74_row1_col10\" class=\"data row1 col10\" >0.95745</td>\n",
              "      <td id=\"T_52b74_row1_col11\" class=\"data row1 col11\" >2.61169</td>\n",
              "      <td id=\"T_52b74_row1_col12\" class=\"data row1 col12\" >746.89326</td>\n",
              "      <td id=\"T_52b74_row1_col13\" class=\"data row1 col13\" >0.93820</td>\n",
              "    </tr>\n",
              "    <tr>\n",
              "      <th id=\"T_52b74_level0_row2\" class=\"row_heading level0 row2\" >std</th>\n",
              "      <td id=\"T_52b74_row2_col0\" class=\"data row2 col0\" >0.81183</td>\n",
              "      <td id=\"T_52b74_row2_col1\" class=\"data row2 col1\" >1.11715</td>\n",
              "      <td id=\"T_52b74_row2_col2\" class=\"data row2 col2\" >0.27434</td>\n",
              "      <td id=\"T_52b74_row2_col3\" class=\"data row2 col3\" >3.33956</td>\n",
              "      <td id=\"T_52b74_row2_col4\" class=\"data row2 col4\" >14.28248</td>\n",
              "      <td id=\"T_52b74_row2_col5\" class=\"data row2 col5\" >0.62585</td>\n",
              "      <td id=\"T_52b74_row2_col6\" class=\"data row2 col6\" >0.99886</td>\n",
              "      <td id=\"T_52b74_row2_col7\" class=\"data row2 col7\" >0.12445</td>\n",
              "      <td id=\"T_52b74_row2_col8\" class=\"data row2 col8\" >0.57236</td>\n",
              "      <td id=\"T_52b74_row2_col9\" class=\"data row2 col9\" >2.31829</td>\n",
              "      <td id=\"T_52b74_row2_col10\" class=\"data row2 col10\" >0.22857</td>\n",
              "      <td id=\"T_52b74_row2_col11\" class=\"data row2 col11\" >0.70999</td>\n",
              "      <td id=\"T_52b74_row2_col12\" class=\"data row2 col12\" >314.90747</td>\n",
              "      <td id=\"T_52b74_row2_col13\" class=\"data row2 col13\" >0.77503</td>\n",
              "    </tr>\n",
              "    <tr>\n",
              "      <th id=\"T_52b74_level0_row3\" class=\"row_heading level0 row3\" >min</th>\n",
              "      <td id=\"T_52b74_row3_col0\" class=\"data row3 col0\" >11.03000</td>\n",
              "      <td id=\"T_52b74_row3_col1\" class=\"data row3 col1\" >0.74000</td>\n",
              "      <td id=\"T_52b74_row3_col2\" class=\"data row3 col2\" >1.36000</td>\n",
              "      <td id=\"T_52b74_row3_col3\" class=\"data row3 col3\" >10.60000</td>\n",
              "      <td id=\"T_52b74_row3_col4\" class=\"data row3 col4\" >70.00000</td>\n",
              "      <td id=\"T_52b74_row3_col5\" class=\"data row3 col5\" >0.98000</td>\n",
              "      <td id=\"T_52b74_row3_col6\" class=\"data row3 col6\" >0.34000</td>\n",
              "      <td id=\"T_52b74_row3_col7\" class=\"data row3 col7\" >0.13000</td>\n",
              "      <td id=\"T_52b74_row3_col8\" class=\"data row3 col8\" >0.41000</td>\n",
              "      <td id=\"T_52b74_row3_col9\" class=\"data row3 col9\" >1.28000</td>\n",
              "      <td id=\"T_52b74_row3_col10\" class=\"data row3 col10\" >0.48000</td>\n",
              "      <td id=\"T_52b74_row3_col11\" class=\"data row3 col11\" >1.27000</td>\n",
              "      <td id=\"T_52b74_row3_col12\" class=\"data row3 col12\" >278.00000</td>\n",
              "      <td id=\"T_52b74_row3_col13\" class=\"data row3 col13\" >0.00000</td>\n",
              "    </tr>\n",
              "    <tr>\n",
              "      <th id=\"T_52b74_level0_row4\" class=\"row_heading level0 row4\" >25%</th>\n",
              "      <td id=\"T_52b74_row4_col0\" class=\"data row4 col0\" >12.36250</td>\n",
              "      <td id=\"T_52b74_row4_col1\" class=\"data row4 col1\" >1.60250</td>\n",
              "      <td id=\"T_52b74_row4_col2\" class=\"data row4 col2\" >2.21000</td>\n",
              "      <td id=\"T_52b74_row4_col3\" class=\"data row4 col3\" >17.20000</td>\n",
              "      <td id=\"T_52b74_row4_col4\" class=\"data row4 col4\" >88.00000</td>\n",
              "      <td id=\"T_52b74_row4_col5\" class=\"data row4 col5\" >1.74250</td>\n",
              "      <td id=\"T_52b74_row4_col6\" class=\"data row4 col6\" >1.20500</td>\n",
              "      <td id=\"T_52b74_row4_col7\" class=\"data row4 col7\" >0.27000</td>\n",
              "      <td id=\"T_52b74_row4_col8\" class=\"data row4 col8\" >1.25000</td>\n",
              "      <td id=\"T_52b74_row4_col9\" class=\"data row4 col9\" >3.22000</td>\n",
              "      <td id=\"T_52b74_row4_col10\" class=\"data row4 col10\" >0.78250</td>\n",
              "      <td id=\"T_52b74_row4_col11\" class=\"data row4 col11\" >1.93750</td>\n",
              "      <td id=\"T_52b74_row4_col12\" class=\"data row4 col12\" >500.50000</td>\n",
              "      <td id=\"T_52b74_row4_col13\" class=\"data row4 col13\" >0.00000</td>\n",
              "    </tr>\n",
              "    <tr>\n",
              "      <th id=\"T_52b74_level0_row5\" class=\"row_heading level0 row5\" >50%</th>\n",
              "      <td id=\"T_52b74_row5_col0\" class=\"data row5 col0\" >13.05000</td>\n",
              "      <td id=\"T_52b74_row5_col1\" class=\"data row5 col1\" >1.86500</td>\n",
              "      <td id=\"T_52b74_row5_col2\" class=\"data row5 col2\" >2.36000</td>\n",
              "      <td id=\"T_52b74_row5_col3\" class=\"data row5 col3\" >19.50000</td>\n",
              "      <td id=\"T_52b74_row5_col4\" class=\"data row5 col4\" >98.00000</td>\n",
              "      <td id=\"T_52b74_row5_col5\" class=\"data row5 col5\" >2.35500</td>\n",
              "      <td id=\"T_52b74_row5_col6\" class=\"data row5 col6\" >2.13500</td>\n",
              "      <td id=\"T_52b74_row5_col7\" class=\"data row5 col7\" >0.34000</td>\n",
              "      <td id=\"T_52b74_row5_col8\" class=\"data row5 col8\" >1.55500</td>\n",
              "      <td id=\"T_52b74_row5_col9\" class=\"data row5 col9\" >4.69000</td>\n",
              "      <td id=\"T_52b74_row5_col10\" class=\"data row5 col10\" >0.96500</td>\n",
              "      <td id=\"T_52b74_row5_col11\" class=\"data row5 col11\" >2.78000</td>\n",
              "      <td id=\"T_52b74_row5_col12\" class=\"data row5 col12\" >673.50000</td>\n",
              "      <td id=\"T_52b74_row5_col13\" class=\"data row5 col13\" >1.00000</td>\n",
              "    </tr>\n",
              "    <tr>\n",
              "      <th id=\"T_52b74_level0_row6\" class=\"row_heading level0 row6\" >75%</th>\n",
              "      <td id=\"T_52b74_row6_col0\" class=\"data row6 col0\" >13.67750</td>\n",
              "      <td id=\"T_52b74_row6_col1\" class=\"data row6 col1\" >3.08250</td>\n",
              "      <td id=\"T_52b74_row6_col2\" class=\"data row6 col2\" >2.55750</td>\n",
              "      <td id=\"T_52b74_row6_col3\" class=\"data row6 col3\" >21.50000</td>\n",
              "      <td id=\"T_52b74_row6_col4\" class=\"data row6 col4\" >107.00000</td>\n",
              "      <td id=\"T_52b74_row6_col5\" class=\"data row6 col5\" >2.80000</td>\n",
              "      <td id=\"T_52b74_row6_col6\" class=\"data row6 col6\" >2.87500</td>\n",
              "      <td id=\"T_52b74_row6_col7\" class=\"data row6 col7\" >0.43750</td>\n",
              "      <td id=\"T_52b74_row6_col8\" class=\"data row6 col8\" >1.95000</td>\n",
              "      <td id=\"T_52b74_row6_col9\" class=\"data row6 col9\" >6.20000</td>\n",
              "      <td id=\"T_52b74_row6_col10\" class=\"data row6 col10\" >1.12000</td>\n",
              "      <td id=\"T_52b74_row6_col11\" class=\"data row6 col11\" >3.17000</td>\n",
              "      <td id=\"T_52b74_row6_col12\" class=\"data row6 col12\" >985.00000</td>\n",
              "      <td id=\"T_52b74_row6_col13\" class=\"data row6 col13\" >2.00000</td>\n",
              "    </tr>\n",
              "    <tr>\n",
              "      <th id=\"T_52b74_level0_row7\" class=\"row_heading level0 row7\" >max</th>\n",
              "      <td id=\"T_52b74_row7_col0\" class=\"data row7 col0\" >14.83000</td>\n",
              "      <td id=\"T_52b74_row7_col1\" class=\"data row7 col1\" >5.80000</td>\n",
              "      <td id=\"T_52b74_row7_col2\" class=\"data row7 col2\" >3.23000</td>\n",
              "      <td id=\"T_52b74_row7_col3\" class=\"data row7 col3\" >30.00000</td>\n",
              "      <td id=\"T_52b74_row7_col4\" class=\"data row7 col4\" >162.00000</td>\n",
              "      <td id=\"T_52b74_row7_col5\" class=\"data row7 col5\" >3.88000</td>\n",
              "      <td id=\"T_52b74_row7_col6\" class=\"data row7 col6\" >5.08000</td>\n",
              "      <td id=\"T_52b74_row7_col7\" class=\"data row7 col7\" >0.66000</td>\n",
              "      <td id=\"T_52b74_row7_col8\" class=\"data row7 col8\" >3.58000</td>\n",
              "      <td id=\"T_52b74_row7_col9\" class=\"data row7 col9\" >13.00000</td>\n",
              "      <td id=\"T_52b74_row7_col10\" class=\"data row7 col10\" >1.71000</td>\n",
              "      <td id=\"T_52b74_row7_col11\" class=\"data row7 col11\" >4.00000</td>\n",
              "      <td id=\"T_52b74_row7_col12\" class=\"data row7 col12\" >1680.00000</td>\n",
              "      <td id=\"T_52b74_row7_col13\" class=\"data row7 col13\" >2.00000</td>\n",
              "    </tr>\n",
              "  </tbody>\n",
              "</table>\n"
            ]
          },
          "metadata": {},
          "execution_count": 17
        }
      ]
    },
    {
      "cell_type": "markdown",
      "source": [
        "Menunjukan matriks korelasi dari data"
      ],
      "metadata": {
        "id": "XLxwaZwd4pXf"
      }
    },
    {
      "cell_type": "code",
      "source": [
        "import matplotlib.pyplot as plt\n",
        "plt.matshow(df.corr())\n",
        "plt.xticks(range(len(df.columns)), df.columns)\n",
        "plt.yticks(range(len(df.columns)), df.columns)\n",
        "plt.colorbar()\n",
        "plt.show()"
      ],
      "metadata": {
        "colab": {
          "base_uri": "https://localhost:8080/",
          "height": 258
        },
        "id": "go1S3q9k4tVr",
        "outputId": "a9dc4f8b-d020-46ed-8582-0b8136247945"
      },
      "execution_count": 19,
      "outputs": [
        {
          "output_type": "display_data",
          "data": {
            "text/plain": [
              "<Figure size 288x288 with 2 Axes>"
            ],
            "image/png": "[encoded data removed]"
          },
          "metadata": {
            "needs_background": "light"
          }
        }
      ]
    }
  ]
}